{
 "cells": [
  {
   "cell_type": "code",
   "execution_count": 1,
   "metadata": {},
   "outputs": [],
   "source": [
    "import pandas as pd\n",
    "import seaborn as sns\n",
    "import matplotlib.pyplot as plt\n",
    "from sklearn.preprocessing import LabelEncoder\n",
    "import numpy as np\n",
    "from scipy.stats import norm\n",
    "from sklearn.preprocessing import StandardScaler\n",
    "from scipy import stats\n",
    "import warnings\n",
    "%matplotlib inline\n",
    "df_ori = pd.read_csv('Airbnb_data/listings_SanFan.csv')"
   ]
  },
  {
   "cell_type": "code",
   "execution_count": 2,
   "metadata": {},
   "outputs": [],
   "source": [
    "df_ori = df_ori.dropna(subset = ['reviews_per_month'])"
   ]
  },
  {
   "cell_type": "code",
   "execution_count": 3,
   "metadata": {},
   "outputs": [
    {
     "data": {
      "text/html": [
       "<div>\n",
       "<style scoped>\n",
       "    .dataframe tbody tr th:only-of-type {\n",
       "        vertical-align: middle;\n",
       "    }\n",
       "\n",
       "    .dataframe tbody tr th {\n",
       "        vertical-align: top;\n",
       "    }\n",
       "\n",
       "    .dataframe thead th {\n",
       "        text-align: right;\n",
       "    }\n",
       "</style>\n",
       "<table border=\"1\" class=\"dataframe\">\n",
       "  <thead>\n",
       "    <tr style=\"text-align: right;\">\n",
       "      <th></th>\n",
       "      <th>price</th>\n",
       "      <th>accommodates</th>\n",
       "      <th>host_response_time</th>\n",
       "      <th>bathrooms</th>\n",
       "      <th>bedrooms</th>\n",
       "      <th>beds</th>\n",
       "      <th>security_deposit</th>\n",
       "      <th>cleaning_fee</th>\n",
       "      <th>extra_people</th>\n",
       "      <th>minimum_nights</th>\n",
       "      <th>...</th>\n",
       "      <th>review_scores_checkin</th>\n",
       "      <th>review_scores_communication</th>\n",
       "      <th>review_scores_location</th>\n",
       "      <th>review_scores_value</th>\n",
       "      <th>house_rules</th>\n",
       "      <th>amenities</th>\n",
       "      <th>bed_type</th>\n",
       "      <th>room_type</th>\n",
       "      <th>cancellation_policy</th>\n",
       "      <th>property_type</th>\n",
       "    </tr>\n",
       "  </thead>\n",
       "  <tbody>\n",
       "    <tr>\n",
       "      <th>0</th>\n",
       "      <td>$56.00</td>\n",
       "      <td>4</td>\n",
       "      <td>within an hour</td>\n",
       "      <td>1.0</td>\n",
       "      <td>1.0</td>\n",
       "      <td>2.0</td>\n",
       "      <td>$100.00</td>\n",
       "      <td>$30.00</td>\n",
       "      <td>$15.00</td>\n",
       "      <td>2</td>\n",
       "      <td>...</td>\n",
       "      <td>10.0</td>\n",
       "      <td>10.0</td>\n",
       "      <td>10.0</td>\n",
       "      <td>10.0</td>\n",
       "      <td>- Private bathroom is on the first floor (slig...</td>\n",
       "      <td>{TV,\"Cable TV\",\"Wireless Internet\",\"Air condit...</td>\n",
       "      <td>Real Bed</td>\n",
       "      <td>Private room</td>\n",
       "      <td>moderate</td>\n",
       "      <td>House</td>\n",
       "    </tr>\n",
       "    <tr>\n",
       "      <th>2</th>\n",
       "      <td>$80.00</td>\n",
       "      <td>6</td>\n",
       "      <td>within an hour</td>\n",
       "      <td>1.5</td>\n",
       "      <td>2.0</td>\n",
       "      <td>3.0</td>\n",
       "      <td>$150.00</td>\n",
       "      <td>$65.00</td>\n",
       "      <td>$15.00</td>\n",
       "      <td>1</td>\n",
       "      <td>...</td>\n",
       "      <td>10.0</td>\n",
       "      <td>10.0</td>\n",
       "      <td>10.0</td>\n",
       "      <td>10.0</td>\n",
       "      <td>I don't ask much, just to please respect the s...</td>\n",
       "      <td>{TV,\"Cable TV\",Internet,\"Wireless Internet\",\"A...</td>\n",
       "      <td>Real Bed</td>\n",
       "      <td>Private room</td>\n",
       "      <td>moderate</td>\n",
       "      <td>Townhouse</td>\n",
       "    </tr>\n",
       "    <tr>\n",
       "      <th>3</th>\n",
       "      <td>$80.00</td>\n",
       "      <td>2</td>\n",
       "      <td>within a few hours</td>\n",
       "      <td>1.0</td>\n",
       "      <td>1.0</td>\n",
       "      <td>1.0</td>\n",
       "      <td>$100.00</td>\n",
       "      <td>$10.00</td>\n",
       "      <td>$10.00</td>\n",
       "      <td>2</td>\n",
       "      <td>...</td>\n",
       "      <td>10.0</td>\n",
       "      <td>10.0</td>\n",
       "      <td>10.0</td>\n",
       "      <td>10.0</td>\n",
       "      <td>Guests should treat my condo as their home wit...</td>\n",
       "      <td>{TV,\"Cable TV\",Internet,\"Wireless Internet\",\"A...</td>\n",
       "      <td>Real Bed</td>\n",
       "      <td>Private room</td>\n",
       "      <td>flexible</td>\n",
       "      <td>Condominium</td>\n",
       "    </tr>\n",
       "    <tr>\n",
       "      <th>4</th>\n",
       "      <td>$20.00</td>\n",
       "      <td>3</td>\n",
       "      <td>within an hour</td>\n",
       "      <td>1.0</td>\n",
       "      <td>1.0</td>\n",
       "      <td>1.0</td>\n",
       "      <td>$100.00</td>\n",
       "      <td>$50.00</td>\n",
       "      <td>$10.00</td>\n",
       "      <td>3</td>\n",
       "      <td>...</td>\n",
       "      <td>10.0</td>\n",
       "      <td>10.0</td>\n",
       "      <td>10.0</td>\n",
       "      <td>9.0</td>\n",
       "      <td>If using the kitchen please clean up after you...</td>\n",
       "      <td>{TV,\"Cable TV\",Internet,\"Wireless Internet\",\"A...</td>\n",
       "      <td>Real Bed</td>\n",
       "      <td>Private room</td>\n",
       "      <td>strict</td>\n",
       "      <td>Apartment</td>\n",
       "    </tr>\n",
       "    <tr>\n",
       "      <th>5</th>\n",
       "      <td>$28.00</td>\n",
       "      <td>2</td>\n",
       "      <td>within an hour</td>\n",
       "      <td>1.0</td>\n",
       "      <td>1.0</td>\n",
       "      <td>1.0</td>\n",
       "      <td>$100.00</td>\n",
       "      <td>$35.00</td>\n",
       "      <td>$20.00</td>\n",
       "      <td>1</td>\n",
       "      <td>...</td>\n",
       "      <td>10.0</td>\n",
       "      <td>10.0</td>\n",
       "      <td>10.0</td>\n",
       "      <td>10.0</td>\n",
       "      <td>1. NO SMOKING! This rule applies for inside ou...</td>\n",
       "      <td>{TV,\"Wireless Internet\",\"Air conditioning\",Kit...</td>\n",
       "      <td>Real Bed</td>\n",
       "      <td>Private room</td>\n",
       "      <td>strict</td>\n",
       "      <td>Condominium</td>\n",
       "    </tr>\n",
       "  </tbody>\n",
       "</table>\n",
       "<p>5 rows × 26 columns</p>\n",
       "</div>"
      ],
      "text/plain": [
       "    price  accommodates  host_response_time  bathrooms  bedrooms  beds  \\\n",
       "0  $56.00             4      within an hour        1.0       1.0   2.0   \n",
       "2  $80.00             6      within an hour        1.5       2.0   3.0   \n",
       "3  $80.00             2  within a few hours        1.0       1.0   1.0   \n",
       "4  $20.00             3      within an hour        1.0       1.0   1.0   \n",
       "5  $28.00             2      within an hour        1.0       1.0   1.0   \n",
       "\n",
       "  security_deposit cleaning_fee extra_people  minimum_nights  ...  \\\n",
       "0          $100.00       $30.00       $15.00               2  ...   \n",
       "2          $150.00       $65.00       $15.00               1  ...   \n",
       "3          $100.00       $10.00       $10.00               2  ...   \n",
       "4          $100.00       $50.00       $10.00               3  ...   \n",
       "5          $100.00       $35.00       $20.00               1  ...   \n",
       "\n",
       "   review_scores_checkin  review_scores_communication  review_scores_location  \\\n",
       "0                   10.0                         10.0                    10.0   \n",
       "2                   10.0                         10.0                    10.0   \n",
       "3                   10.0                         10.0                    10.0   \n",
       "4                   10.0                         10.0                    10.0   \n",
       "5                   10.0                         10.0                    10.0   \n",
       "\n",
       "   review_scores_value                                        house_rules  \\\n",
       "0                 10.0  - Private bathroom is on the first floor (slig...   \n",
       "2                 10.0  I don't ask much, just to please respect the s...   \n",
       "3                 10.0  Guests should treat my condo as their home wit...   \n",
       "4                  9.0  If using the kitchen please clean up after you...   \n",
       "5                 10.0  1. NO SMOKING! This rule applies for inside ou...   \n",
       "\n",
       "                                           amenities  bed_type     room_type  \\\n",
       "0  {TV,\"Cable TV\",\"Wireless Internet\",\"Air condit...  Real Bed  Private room   \n",
       "2  {TV,\"Cable TV\",Internet,\"Wireless Internet\",\"A...  Real Bed  Private room   \n",
       "3  {TV,\"Cable TV\",Internet,\"Wireless Internet\",\"A...  Real Bed  Private room   \n",
       "4  {TV,\"Cable TV\",Internet,\"Wireless Internet\",\"A...  Real Bed  Private room   \n",
       "5  {TV,\"Wireless Internet\",\"Air conditioning\",Kit...  Real Bed  Private room   \n",
       "\n",
       "   cancellation_policy  property_type  \n",
       "0             moderate          House  \n",
       "2             moderate      Townhouse  \n",
       "3             flexible    Condominium  \n",
       "4               strict      Apartment  \n",
       "5               strict    Condominium  \n",
       "\n",
       "[5 rows x 26 columns]"
      ]
     },
     "execution_count": 3,
     "metadata": {},
     "output_type": "execute_result"
    }
   ],
   "source": [
    "# u'zipcode',u'location_price',,u'instant_bookable', u'host_is_superhost',u'host_response_rate',\n",
    "selected_features = [u'price',u'accommodates',u'host_response_time',\n",
    "       u'bathrooms', u'bedrooms', u'beds',u'security_deposit', u'cleaning_fee',\n",
    "       u'extra_people', u'minimum_nights', u'maximum_nights',u'guests_included',  \n",
    "       u'availability_365',\n",
    "       u'number_of_reviews', u'review_scores_rating',u'review_scores_cleanliness', u'review_scores_checkin',\n",
    "       u'review_scores_communication', u'review_scores_location',\n",
    "       u'review_scores_value', u'house_rules',u'amenities','bed_type', 'room_type', 'cancellation_policy', 'property_type']\n",
    "df = df_ori.loc[:, selected_features]\n",
    "df = df.apply(lambda x:x.fillna(x.value_counts().index[0])) # fill in the na with the mode\n",
    "df.head()\n"
   ]
  },
  {
   "cell_type": "code",
   "execution_count": 4,
   "metadata": {},
   "outputs": [
    {
     "data": {
      "text/plain": [
       "price                           object\n",
       "accommodates                     int64\n",
       "host_response_time              object\n",
       "bathrooms                      float64\n",
       "bedrooms                       float64\n",
       "beds                           float64\n",
       "security_deposit                object\n",
       "cleaning_fee                    object\n",
       "extra_people                    object\n",
       "minimum_nights                   int64\n",
       "maximum_nights                   int64\n",
       "guests_included                  int64\n",
       "availability_365                 int64\n",
       "number_of_reviews                int64\n",
       "review_scores_rating           float64\n",
       "review_scores_cleanliness      float64\n",
       "review_scores_checkin          float64\n",
       "review_scores_communication    float64\n",
       "review_scores_location         float64\n",
       "review_scores_value            float64\n",
       "house_rules                     object\n",
       "amenities                       object\n",
       "bed_type                        object\n",
       "room_type                       object\n",
       "cancellation_policy             object\n",
       "property_type                   object\n",
       "dtype: object"
      ]
     },
     "execution_count": 4,
     "metadata": {},
     "output_type": "execute_result"
    }
   ],
   "source": [
    "df.dtypes"
   ]
  },
  {
   "cell_type": "code",
   "execution_count": 5,
   "metadata": {},
   "outputs": [
    {
     "name": "stderr",
     "output_type": "stream",
     "text": [
      "<ipython-input-5-0fef7e5dc564>:2: FutureWarning: The default value of regex will change from True to False in a future version.\n",
      "  df['price'] = df['price'].str.replace(\"\\$|,\", \"\").astype(float)\n",
      "<ipython-input-5-0fef7e5dc564>:3: FutureWarning: The default value of regex will change from True to False in a future version.\n",
      "  df['security_deposit'] = df['security_deposit'].str.replace(\"\\$|,\", \"\").astype(float)\n",
      "<ipython-input-5-0fef7e5dc564>:4: FutureWarning: The default value of regex will change from True to False in a future version.\n",
      "  df['cleaning_fee'] = df['cleaning_fee'].str.replace(\"\\$|,\", \"\").astype(float)\n",
      "<ipython-input-5-0fef7e5dc564>:5: FutureWarning: The default value of regex will change from True to False in a future version.\n",
      "  df['extra_people'] = df['extra_people'].str.replace(\"\\$|,\", \"\").astype(float)\n"
     ]
    }
   ],
   "source": [
    "# FEES and PRICES\n",
    "df['price'] = df['price'].str.replace(\"\\$|,\", \"\").astype(float)\n",
    "df['security_deposit'] = df['security_deposit'].str.replace(\"\\$|,\", \"\").astype(float)\n",
    "df['cleaning_fee'] = df['cleaning_fee'].str.replace(\"\\$|,\", \"\").astype(float)\n",
    "df['extra_people'] = df['extra_people'].str.replace(\"\\$|,\", \"\").astype(float)\n",
    "df['availability'] = df['availability_365'] / 365"
   ]
  },
  {
   "cell_type": "code",
   "execution_count": 6,
   "metadata": {},
   "outputs": [],
   "source": [
    "# # APARTMENT TYPES\n",
    "enc = LabelEncoder()\n",
    "room_type = enc.fit( df['room_type'].values )\n",
    "df['room_type'] = room_type.transform(df['room_type'].values)"
   ]
  },
  {
   "cell_type": "code",
   "execution_count": 7,
   "metadata": {},
   "outputs": [],
   "source": [
    "# HOUSE RULES\n",
    "house_rules = df['house_rules'].str.lower()\n",
    "\n",
    "smoking = house_rules.str.contains(\"smoke|smoking\", na= False)\n",
    "df.loc[:, 'smoking'] = - smoking # False: No smoking allowed\n",
    "\n",
    "pet = house_rules.str.contains(\"pet\", na=False)\n",
    "df.loc[:, 'pet'] = - pet\n",
    "\n",
    "party = house_rules.str.contains(\"party|parties\", na=False)\n",
    "df.loc[:, 'party'] = - party\n",
    "\n",
    "guest = house_rules.str.contains(\"guest|guests\", na=False)\n",
    "df.loc[:, 'guest'] = - guest\n",
    "\n",
    "df = df.drop(['house_rules'], axis = 1)\n"
   ]
  },
  {
   "cell_type": "code",
   "execution_count": 8,
   "metadata": {},
   "outputs": [],
   "source": [
    "df['amenities'] = df['amenities'].apply(lambda x: x.replace(\"{\", \"\").replace(\"}\",\"\").replace(\"\\\"\", \"\").split(\",\"))"
   ]
  },
  {
   "cell_type": "code",
   "execution_count": 9,
   "metadata": {},
   "outputs": [],
   "source": [
    "df = df.loc[:,~df.columns.duplicated()]"
   ]
  },
  {
   "cell_type": "code",
   "execution_count": 10,
   "metadata": {},
   "outputs": [],
   "source": [
    "df['id'] = df.index"
   ]
  },
  {
   "cell_type": "code",
   "execution_count": 11,
   "metadata": {},
   "outputs": [],
   "source": [
    "amenity_lens = df['amenities'].map(len)"
   ]
  },
  {
   "cell_type": "code",
   "execution_count": 12,
   "metadata": {},
   "outputs": [],
   "source": [
    "from itertools import chain\n",
    "amenity_col = list(chain.from_iterable(df.amenities))\n",
    "repeated_cols = df.columns.difference([\"amenities\"])"
   ]
  },
  {
   "cell_type": "code",
   "execution_count": 13,
   "metadata": {},
   "outputs": [
    {
     "data": {
      "text/plain": [
       "Index(['accommodates', 'availability', 'availability_365', 'bathrooms',\n",
       "       'bed_type', 'bedrooms', 'beds', 'cancellation_policy', 'cleaning_fee',\n",
       "       'extra_people', 'guest', 'guests_included', 'host_response_time', 'id',\n",
       "       'maximum_nights', 'minimum_nights', 'number_of_reviews', 'party', 'pet',\n",
       "       'price', 'property_type', 'review_scores_checkin',\n",
       "       'review_scores_cleanliness', 'review_scores_communication',\n",
       "       'review_scores_location', 'review_scores_rating', 'review_scores_value',\n",
       "       'room_type', 'security_deposit', 'smoking'],\n",
       "      dtype='object')"
      ]
     },
     "execution_count": 13,
     "metadata": {},
     "output_type": "execute_result"
    }
   ],
   "source": [
    "df.columns.difference([\"amenities\"])"
   ]
  },
  {
   "cell_type": "code",
   "execution_count": 14,
   "metadata": {},
   "outputs": [],
   "source": [
    "df_new = pd.DataFrame(\n",
    "    np.repeat(df[repeated_cols].values, amenity_lens, axis=0), \n",
    "    columns=repeated_cols\n",
    ")"
   ]
  },
  {
   "cell_type": "code",
   "execution_count": 15,
   "metadata": {},
   "outputs": [],
   "source": [
    "df_new[\"ameni_list\"] = amenity_col"
   ]
  },
  {
   "cell_type": "code",
   "execution_count": 16,
   "metadata": {},
   "outputs": [],
   "source": [
    "df_1 = pd.concat(\n",
    "    [df_new.drop(columns=[\"ameni_list\"]), pd.get_dummies(df_new.ameni_list)], axis=1\n",
    ")"
   ]
  },
  {
   "cell_type": "code",
   "execution_count": 17,
   "metadata": {},
   "outputs": [],
   "source": [
    "df_2 = df_1.groupby('id').first()"
   ]
  },
  {
   "cell_type": "code",
   "execution_count": 18,
   "metadata": {},
   "outputs": [],
   "source": [
    "df_2 = pd.concat(\n",
    "    [df_2.drop(columns=[\"bed_type\"]), pd.get_dummies(df_2.bed_type)], axis=1\n",
    ")"
   ]
  },
  {
   "cell_type": "code",
   "execution_count": 19,
   "metadata": {},
   "outputs": [],
   "source": [
    "df_2 = pd.concat(\n",
    "    [df_2.drop(columns=[\"cancellation_policy\"]), pd.get_dummies(df_2.cancellation_policy)], axis=1\n",
    ")"
   ]
  },
  {
   "cell_type": "code",
   "execution_count": 20,
   "metadata": {},
   "outputs": [],
   "source": [
    "df_2 = pd.concat(\n",
    "    [df_2.drop(columns=[\"property_type\"]), pd.get_dummies(df_2.property_type)], axis=1\n",
    ")"
   ]
  },
  {
   "cell_type": "code",
   "execution_count": 21,
   "metadata": {},
   "outputs": [],
   "source": [
    "df_2 = pd.concat(\n",
    "    [df_2.drop(columns=[\"host_response_time\"]), pd.get_dummies(df_2.host_response_time)], axis=1\n",
    ")"
   ]
  },
  {
   "cell_type": "code",
   "execution_count": 22,
   "metadata": {},
   "outputs": [],
   "source": [
    "df_2 = df_2.drop(columns = ['guest'], axis = 1)"
   ]
  },
  {
   "cell_type": "code",
   "execution_count": 25,
   "metadata": {},
   "outputs": [
    {
     "data": {
      "text/html": [
       "<div>\n",
       "<style scoped>\n",
       "    .dataframe tbody tr th:only-of-type {\n",
       "        vertical-align: middle;\n",
       "    }\n",
       "\n",
       "    .dataframe tbody tr th {\n",
       "        vertical-align: top;\n",
       "    }\n",
       "\n",
       "    .dataframe thead th {\n",
       "        text-align: right;\n",
       "    }\n",
       "</style>\n",
       "<table border=\"1\" class=\"dataframe\">\n",
       "  <thead>\n",
       "    <tr style=\"text-align: right;\">\n",
       "      <th></th>\n",
       "      <th>accommodates</th>\n",
       "      <th>availability</th>\n",
       "      <th>availability_365</th>\n",
       "      <th>bathrooms</th>\n",
       "      <th>bedrooms</th>\n",
       "      <th>beds</th>\n",
       "      <th>cleaning_fee</th>\n",
       "      <th>extra_people</th>\n",
       "      <th>guests_included</th>\n",
       "      <th>maximum_nights</th>\n",
       "      <th>...</th>\n",
       "      <th>Other</th>\n",
       "      <th>Serviced apartment</th>\n",
       "      <th>Timeshare</th>\n",
       "      <th>Townhouse</th>\n",
       "      <th>Vacation home</th>\n",
       "      <th>Villa</th>\n",
       "      <th>a few days or more</th>\n",
       "      <th>within a day</th>\n",
       "      <th>within a few hours</th>\n",
       "      <th>within an hour</th>\n",
       "    </tr>\n",
       "    <tr>\n",
       "      <th>id</th>\n",
       "      <th></th>\n",
       "      <th></th>\n",
       "      <th></th>\n",
       "      <th></th>\n",
       "      <th></th>\n",
       "      <th></th>\n",
       "      <th></th>\n",
       "      <th></th>\n",
       "      <th></th>\n",
       "      <th></th>\n",
       "      <th></th>\n",
       "      <th></th>\n",
       "      <th></th>\n",
       "      <th></th>\n",
       "      <th></th>\n",
       "      <th></th>\n",
       "      <th></th>\n",
       "      <th></th>\n",
       "      <th></th>\n",
       "      <th></th>\n",
       "      <th></th>\n",
       "    </tr>\n",
       "  </thead>\n",
       "  <tbody>\n",
       "    <tr>\n",
       "      <th>0</th>\n",
       "      <td>4</td>\n",
       "      <td>0.087671</td>\n",
       "      <td>32</td>\n",
       "      <td>1.0</td>\n",
       "      <td>1.0</td>\n",
       "      <td>2.0</td>\n",
       "      <td>30.0</td>\n",
       "      <td>15.0</td>\n",
       "      <td>2</td>\n",
       "      <td>1125</td>\n",
       "      <td>...</td>\n",
       "      <td>0</td>\n",
       "      <td>0</td>\n",
       "      <td>0</td>\n",
       "      <td>0</td>\n",
       "      <td>0</td>\n",
       "      <td>0</td>\n",
       "      <td>0</td>\n",
       "      <td>0</td>\n",
       "      <td>0</td>\n",
       "      <td>1</td>\n",
       "    </tr>\n",
       "    <tr>\n",
       "      <th>2</th>\n",
       "      <td>6</td>\n",
       "      <td>0.432877</td>\n",
       "      <td>158</td>\n",
       "      <td>1.5</td>\n",
       "      <td>2.0</td>\n",
       "      <td>3.0</td>\n",
       "      <td>65.0</td>\n",
       "      <td>15.0</td>\n",
       "      <td>4</td>\n",
       "      <td>90</td>\n",
       "      <td>...</td>\n",
       "      <td>0</td>\n",
       "      <td>0</td>\n",
       "      <td>0</td>\n",
       "      <td>1</td>\n",
       "      <td>0</td>\n",
       "      <td>0</td>\n",
       "      <td>0</td>\n",
       "      <td>0</td>\n",
       "      <td>0</td>\n",
       "      <td>1</td>\n",
       "    </tr>\n",
       "    <tr>\n",
       "      <th>3</th>\n",
       "      <td>2</td>\n",
       "      <td>0.142466</td>\n",
       "      <td>52</td>\n",
       "      <td>1.0</td>\n",
       "      <td>1.0</td>\n",
       "      <td>1.0</td>\n",
       "      <td>10.0</td>\n",
       "      <td>10.0</td>\n",
       "      <td>2</td>\n",
       "      <td>4</td>\n",
       "      <td>...</td>\n",
       "      <td>0</td>\n",
       "      <td>0</td>\n",
       "      <td>0</td>\n",
       "      <td>0</td>\n",
       "      <td>0</td>\n",
       "      <td>0</td>\n",
       "      <td>0</td>\n",
       "      <td>0</td>\n",
       "      <td>1</td>\n",
       "      <td>0</td>\n",
       "    </tr>\n",
       "    <tr>\n",
       "      <th>4</th>\n",
       "      <td>3</td>\n",
       "      <td>0.315068</td>\n",
       "      <td>115</td>\n",
       "      <td>1.0</td>\n",
       "      <td>1.0</td>\n",
       "      <td>1.0</td>\n",
       "      <td>50.0</td>\n",
       "      <td>10.0</td>\n",
       "      <td>1</td>\n",
       "      <td>20</td>\n",
       "      <td>...</td>\n",
       "      <td>0</td>\n",
       "      <td>0</td>\n",
       "      <td>0</td>\n",
       "      <td>0</td>\n",
       "      <td>0</td>\n",
       "      <td>0</td>\n",
       "      <td>0</td>\n",
       "      <td>0</td>\n",
       "      <td>0</td>\n",
       "      <td>1</td>\n",
       "    </tr>\n",
       "    <tr>\n",
       "      <th>5</th>\n",
       "      <td>2</td>\n",
       "      <td>0.000000</td>\n",
       "      <td>0</td>\n",
       "      <td>1.0</td>\n",
       "      <td>1.0</td>\n",
       "      <td>1.0</td>\n",
       "      <td>35.0</td>\n",
       "      <td>20.0</td>\n",
       "      <td>1</td>\n",
       "      <td>7</td>\n",
       "      <td>...</td>\n",
       "      <td>0</td>\n",
       "      <td>0</td>\n",
       "      <td>0</td>\n",
       "      <td>0</td>\n",
       "      <td>0</td>\n",
       "      <td>0</td>\n",
       "      <td>0</td>\n",
       "      <td>0</td>\n",
       "      <td>0</td>\n",
       "      <td>1</td>\n",
       "    </tr>\n",
       "  </tbody>\n",
       "</table>\n",
       "<p>5 rows × 162 columns</p>\n",
       "</div>"
      ],
      "text/plain": [
       "    accommodates  availability  availability_365  bathrooms  bedrooms  beds  \\\n",
       "id                                                                            \n",
       "0              4      0.087671                32        1.0       1.0   2.0   \n",
       "2              6      0.432877               158        1.5       2.0   3.0   \n",
       "3              2      0.142466                52        1.0       1.0   1.0   \n",
       "4              3      0.315068               115        1.0       1.0   1.0   \n",
       "5              2      0.000000                 0        1.0       1.0   1.0   \n",
       "\n",
       "    cleaning_fee  extra_people  guests_included  maximum_nights  ...  Other  \\\n",
       "id                                                               ...          \n",
       "0           30.0          15.0                2            1125  ...      0   \n",
       "2           65.0          15.0                4              90  ...      0   \n",
       "3           10.0          10.0                2               4  ...      0   \n",
       "4           50.0          10.0                1              20  ...      0   \n",
       "5           35.0          20.0                1               7  ...      0   \n",
       "\n",
       "    Serviced apartment  Timeshare  Townhouse  Vacation home  Villa  \\\n",
       "id                                                                   \n",
       "0                    0          0          0              0      0   \n",
       "2                    0          0          1              0      0   \n",
       "3                    0          0          0              0      0   \n",
       "4                    0          0          0              0      0   \n",
       "5                    0          0          0              0      0   \n",
       "\n",
       "    a few days or more  within a day  within a few hours  within an hour  \n",
       "id                                                                        \n",
       "0                    0             0                   0               1  \n",
       "2                    0             0                   0               1  \n",
       "3                    0             0                   1               0  \n",
       "4                    0             0                   0               1  \n",
       "5                    0             0                   0               1  \n",
       "\n",
       "[5 rows x 162 columns]"
      ]
     },
     "execution_count": 25,
     "metadata": {},
     "output_type": "execute_result"
    }
   ],
   "source": [
    "df_2.head()"
   ]
  },
  {
   "cell_type": "markdown",
   "metadata": {},
   "source": [
    "import pysal\n",
    "from pysal.cg.kdtree import KDTree    \n",
    "\n",
    "locations = np.array(df[['longitude','latitude']])\n",
    "tree = KDTree(locations, distance_metric='Arc', radius=pysal.cg.RADIUS_EARTH_MILES)\n",
    "current_point = (-87.68493431,41.97654639)\n",
    "#get all points within 3 mile of 'current_point'\n",
    "indices = tree.query_ball_point(current_point, 3)\n",
    "print(len(indices))"
   ]
  },
  {
   "cell_type": "code",
   "execution_count": 23,
   "metadata": {},
   "outputs": [
    {
     "name": "stdout",
     "output_type": "stream",
     "text": [
      "[0.07000521 0.05235654 0.03197849 0.0283566  0.02785211 0.02730471\n",
      " 0.02505051 0.02246932 0.02118985 0.01918917 0.01843054 0.01760119\n",
      " 0.01743199 0.01653929 0.01619442 0.01584436 0.01522959 0.01511403\n",
      " 0.01505936 0.01482033 0.01475979 0.01458134 0.01450196 0.01448157\n",
      " 0.01441634 0.01440665 0.01437051 0.01434387 0.01433175 0.01432206\n",
      " 0.01430208 0.01429877 0.01428501 0.01426393 0.01423508 0.0142139\n",
      " 0.01420216 0.01418244 0.01409249 0.01405486 0.01391247 0.01385536\n",
      " 0.01368607 0.01350309 0.01314063 0.01286676 0.01260471 0.01242729\n",
      " 0.01172347 0.01140455]\n"
     ]
    },
    {
     "data": {
      "text/plain": [
       "array([[-1.01217659, -1.50786589,  0.09015103, ...,  0.02657587,\n",
       "        -0.63661016,  0.46715084],\n",
       "       [ 1.27955294, -1.2642603 ,  0.48595243, ..., -0.25772189,\n",
       "        -0.64812658,  0.88036129],\n",
       "       [-2.12775538, -1.46660117,  0.04514613, ..., -0.00933124,\n",
       "        -0.1199992 ,  0.38721167],\n",
       "       ...,\n",
       "       [ 3.17862096, -1.61195062,  0.27004777, ..., -0.08360441,\n",
       "        -0.99680595,  0.34492952],\n",
       "       [ 4.93632709,  2.37855473,  1.05110939, ..., -0.08950739,\n",
       "        -0.27278645,  1.19273269],\n",
       "       [ 0.77164106, -1.11046742,  0.71747541, ...,  0.17040656,\n",
       "        -1.22462766, -0.25648174]])"
      ]
     },
     "execution_count": 23,
     "metadata": {},
     "output_type": "execute_result"
    },
    {
     "data": {
      "image/png": "[encoded data removed]",
      "text/plain": [
       "<Figure size 432x288 with 1 Axes>"
      ]
     },
     "metadata": {
      "needs_background": "light"
     },
     "output_type": "display_data"
    }
   ],
   "source": [
    "import numpy as np\n",
    "from sklearn import preprocessing\n",
    "from sklearn.decomposition import PCA\n",
    "# df.drop(['longitude','latitude'], axis=1, inplace=True)\n",
    "X = np.array(df_2.drop(['price'], axis = 1))\n",
    "X_scaled = preprocessing.scale(X)\n",
    "y =df_2['price']\n",
    "pca = PCA(n_components=50)\n",
    "X_scaled = pca.fit_transform(X_scaled)\n",
    "print(pca.explained_variance_ratio_)\n",
    "plt.plot(np.cumsum(pca.explained_variance_ratio_))\n",
    "plt.title('Principal Component Analysis to reduce 121 to 50 variables')\n",
    "plt.xlabel('number of components')\n",
    "plt.ylabel('cumulative explained variance')\n",
    "X_scaled"
   ]
  },
  {
   "cell_type": "code",
   "execution_count": 24,
   "metadata": {},
   "outputs": [
    {
     "name": "stdout",
     "output_type": "stream",
     "text": [
      "[2 1 2 ... 1 1 2]\n"
     ]
    },
    {
     "data": {
      "image/png": "[encoded data removed]",
      "text/plain": [
       "<Figure size 432x288 with 1 Axes>"
      ]
     },
     "metadata": {
      "needs_background": "light"
     },
     "output_type": "display_data"
    }
   ],
   "source": [
    "from sklearn.cluster import KMeans\n",
    "y_pred = KMeans(n_clusters=3, random_state=170).fit_predict(X_scaled)\n",
    "print(y_pred)\n",
    "plt.scatter(X_scaled[:, 0], X_scaled[:, 1], c=y_pred)\n",
    "plt.title(\"kMeans Clustering on PCA_transformed X variables\")\n",
    "plt.xlabel('Principal Component 1')\n",
    "plt.ylabel('Principal Component 2')\n",
    "plt.show()"
   ]
  },
  {
   "cell_type": "code",
   "execution_count": 42,
   "metadata": {},
   "outputs": [
    {
     "data": {
      "text/plain": [
       "(array([   1,    8,   12, ..., 4492, 4494, 4495]),)"
      ]
     },
     "execution_count": 42,
     "metadata": {},
     "output_type": "execute_result"
    }
   ],
   "source": [
    "# group1 = y_pred.index(y_pred == 0)\n",
    "y_pred\n",
    "ind1= np.where(y_pred == 1)\n",
    "ind1\n",
    "# group1 = X_scaled[ind1,:]\n",
    "# group1.shape"
   ]
  },
  {
   "cell_type": "code",
   "execution_count": 43,
   "metadata": {},
   "outputs": [],
   "source": [
    "df_2['cluster'] = y_pred"
   ]
  },
  {
   "cell_type": "code",
   "execution_count": 44,
   "metadata": {},
   "outputs": [],
   "source": [
    "avg_night = 4.2\n",
    "rev_rate = 0.5\n",
    "max_occ_rate = 0.95\n",
    "book_per_month = df_ori['reviews_per_month']/rev_rate\n",
    "est_occ = book_per_month * avg_night/30\n",
    "df_2['est_occ'] = est_occ.apply(lambda x: 0.95 if x > 0.95 else x)"
   ]
  },
  {
   "cell_type": "code",
   "execution_count": 45,
   "metadata": {},
   "outputs": [],
   "source": [
    "group1 = df_2.query('cluster == 0')"
   ]
  },
  {
   "cell_type": "code",
   "execution_count": 46,
   "metadata": {},
   "outputs": [],
   "source": [
    "group2 = df_2.query('cluster == 1')"
   ]
  },
  {
   "cell_type": "code",
   "execution_count": 47,
   "metadata": {},
   "outputs": [],
   "source": [
    "group3 = df_2.query('cluster == 2')"
   ]
  },
  {
   "cell_type": "code",
   "execution_count": 51,
   "metadata": {},
   "outputs": [
    {
     "data": {
      "text/plain": [
       "<matplotlib.collections.PathCollection at 0x7f5d6952edc0>"
      ]
     },
     "execution_count": 51,
     "metadata": {},
     "output_type": "execute_result"
    },
    {
     "data": {
      "image/png": "[encoded data removed]",
      "text/plain": [
       "<Figure size 432x288 with 1 Axes>"
      ]
     },
     "metadata": {
      "needs_background": "light"
     },
     "output_type": "display_data"
    }
   ],
   "source": [
    "plt.scatter(group1['est_occ'], group1['price'])"
   ]
  },
  {
   "cell_type": "code",
   "execution_count": 52,
   "metadata": {},
   "outputs": [
    {
     "data": {
      "text/plain": [
       "<matplotlib.collections.PathCollection at 0x7f5d694e9dc0>"
      ]
     },
     "execution_count": 52,
     "metadata": {},
     "output_type": "execute_result"
    },
    {
     "data": {
      "image/png": "[encoded data removed]",
      "text/plain": [
       "<Figure size 432x288 with 1 Axes>"
      ]
     },
     "metadata": {
      "needs_background": "light"
     },
     "output_type": "display_data"
    }
   ],
   "source": [
    "plt.scatter(group2['est_occ'], group2['price'])"
   ]
  },
  {
   "cell_type": "code",
   "execution_count": 53,
   "metadata": {},
   "outputs": [
    {
     "data": {
      "text/plain": [
       "<matplotlib.collections.PathCollection at 0x7f5d694a3850>"
      ]
     },
     "execution_count": 53,
     "metadata": {},
     "output_type": "execute_result"
    },
    {
     "data": {
      "image/png": "[encoded data removed]",
      "text/plain": [
       "<Figure size 432x288 with 1 Axes>"
      ]
     },
     "metadata": {
      "needs_background": "light"
     },
     "output_type": "display_data"
    }
   ],
   "source": [
    "plt.scatter(group3['est_occ'], group3['price'])"
   ]
  },
  {
   "cell_type": "code",
   "execution_count": 54,
   "metadata": {},
   "outputs": [
    {
     "name": "stdout",
     "output_type": "stream",
     "text": [
      "0.297 (+/-0.414) for {'n_estimators': 50}\n",
      "0.300 (+/-0.532) for {'n_estimators': 60}\n",
      "0.308 (+/-0.434) for {'n_estimators': 70}\n",
      "0.276 (+/-0.497) for {'n_estimators': 80}\n",
      "0.297 (+/-0.440) for {'n_estimators': 90}\n"
     ]
    }
   ],
   "source": [
    "from sklearn.model_selection import GridSearchCV\n",
    "from sklearn.ensemble import RandomForestRegressor\n",
    "from sklearn.ensemble import ExtraTreesClassifier\n",
    "from sklearn.model_selection import train_test_split\n",
    "from sklearn.model_selection import cross_val_score\n",
    "\n",
    "cluster_data=group1.drop(columns = ['price'], axis = 1)\n",
    "X=cluster_data\n",
    "y=group1.loc[:,'price']\n",
    "\n",
    "X_train, X_test, y_train, y_test = train_test_split(X, y, test_size=0.2, random_state=0)\n",
    "\n",
    "tunedParameters=[{'n_estimators':range(50,100,10)}]\n",
    "clf=GridSearchCV(RandomForestRegressor(n_jobs = -1, criterion='mse'), param_grid = tunedParameters,cv=10)\n",
    "\n",
    "clf.fit(X, y)\n",
    "\n",
    "means = clf.cv_results_['mean_test_score']\n",
    "stds = clf.cv_results_['std_test_score']\n",
    "for mean, std, params in zip(means, stds, clf.cv_results_['params']):\n",
    "    print(\"%0.3f (+/-%0.03f) for %r\" % (mean, std * 2, params))"
   ]
  },
  {
   "cell_type": "code",
   "execution_count": 55,
   "metadata": {},
   "outputs": [
    {
     "name": "stdout",
     "output_type": "stream",
     "text": [
      "0.197 (+/-1.101) for {'n_estimators': 50}\n",
      "0.054 (+/-1.872) for {'n_estimators': 60}\n",
      "0.113 (+/-1.582) for {'n_estimators': 70}\n",
      "0.108 (+/-1.509) for {'n_estimators': 80}\n",
      "0.142 (+/-1.516) for {'n_estimators': 90}\n"
     ]
    }
   ],
   "source": [
    "cluster_data=group2.drop(columns = ['price'], axis = 1)\n",
    "X=cluster_data\n",
    "y=group2.loc[:,'price']\n",
    "\n",
    "X_train, X_test, y_train, y_test = train_test_split(X, y, test_size=0.2, random_state=0)\n",
    "\n",
    "tunedParameters=[{'n_estimators':range(50,100,10)}]\n",
    "clf=GridSearchCV(RandomForestRegressor(n_jobs = -1, criterion='mse'), param_grid = tunedParameters,cv=10)\n",
    "\n",
    "clf.fit(X, y)\n",
    "\n",
    "means = clf.cv_results_['mean_test_score']\n",
    "stds = clf.cv_results_['std_test_score']\n",
    "for mean, std, params in zip(means, stds, clf.cv_results_['params']):\n",
    "    print(\"%0.3f (+/-%0.03f) for %r\" % (mean, std * 2, params))"
   ]
  },
  {
   "cell_type": "code",
   "execution_count": 56,
   "metadata": {},
   "outputs": [
    {
     "name": "stdout",
     "output_type": "stream",
     "text": [
      "0.215 (+/-0.430) for {'n_estimators': 50}\n",
      "0.201 (+/-0.462) for {'n_estimators': 60}\n",
      "0.228 (+/-0.433) for {'n_estimators': 70}\n",
      "0.244 (+/-0.432) for {'n_estimators': 80}\n",
      "0.232 (+/-0.450) for {'n_estimators': 90}\n"
     ]
    }
   ],
   "source": [
    "cluster_data=group3.drop(columns = ['price'], axis = 1)\n",
    "X=cluster_data\n",
    "y=group3.loc[:,'price']\n",
    "\n",
    "X_train, X_test, y_train, y_test = train_test_split(X, y, test_size=0.2, random_state=0)\n",
    "\n",
    "tunedParameters=[{'n_estimators':range(50,100,10)}]\n",
    "clf=GridSearchCV(RandomForestRegressor(n_jobs = -1, criterion='mse'), param_grid = tunedParameters,cv=10)\n",
    "\n",
    "clf.fit(X, y)\n",
    "\n",
    "means = clf.cv_results_['mean_test_score']\n",
    "stds = clf.cv_results_['std_test_score']\n",
    "for mean, std, params in zip(means, stds, clf.cv_results_['params']):\n",
    "    print(\"%0.3f (+/-%0.03f) for %r\" % (mean, std * 2, params))"
   ]
  },
  {
   "cell_type": "code",
   "execution_count": 31,
   "metadata": {},
   "outputs": [
    {
     "name": "stderr",
     "output_type": "stream",
     "text": [
      "/usr/local/lib/python3.8/dist-packages/sklearn/ensemble/_forest.py:541: UserWarning: Some inputs do not have OOB scores. This probably means too few trees were used to compute any reliable oob estimates.\n",
      "  warn(\"Some inputs do not have OOB scores. \"\n",
      "/usr/local/lib/python3.8/dist-packages/sklearn/ensemble/_forest.py:545: RuntimeWarning: invalid value encountered in true_divide\n",
      "  decision = (predictions[k] /\n",
      "/usr/local/lib/python3.8/dist-packages/sklearn/ensemble/_forest.py:541: UserWarning: Some inputs do not have OOB scores. This probably means too few trees were used to compute any reliable oob estimates.\n",
      "  warn(\"Some inputs do not have OOB scores. \"\n",
      "/usr/local/lib/python3.8/dist-packages/sklearn/ensemble/_forest.py:545: RuntimeWarning: invalid value encountered in true_divide\n",
      "  decision = (predictions[k] /\n",
      "/usr/local/lib/python3.8/dist-packages/sklearn/ensemble/_forest.py:541: UserWarning: Some inputs do not have OOB scores. This probably means too few trees were used to compute any reliable oob estimates.\n",
      "  warn(\"Some inputs do not have OOB scores. \"\n",
      "/usr/local/lib/python3.8/dist-packages/sklearn/ensemble/_forest.py:545: RuntimeWarning: invalid value encountered in true_divide\n",
      "  decision = (predictions[k] /\n",
      "/usr/local/lib/python3.8/dist-packages/sklearn/ensemble/_forest.py:541: UserWarning: Some inputs do not have OOB scores. This probably means too few trees were used to compute any reliable oob estimates.\n",
      "  warn(\"Some inputs do not have OOB scores. \"\n",
      "/usr/local/lib/python3.8/dist-packages/sklearn/ensemble/_forest.py:545: RuntimeWarning: invalid value encountered in true_divide\n",
      "  decision = (predictions[k] /\n",
      "/usr/local/lib/python3.8/dist-packages/sklearn/ensemble/_forest.py:541: UserWarning: Some inputs do not have OOB scores. This probably means too few trees were used to compute any reliable oob estimates.\n",
      "  warn(\"Some inputs do not have OOB scores. \"\n",
      "/usr/local/lib/python3.8/dist-packages/sklearn/ensemble/_forest.py:545: RuntimeWarning: invalid value encountered in true_divide\n",
      "  decision = (predictions[k] /\n",
      "/usr/local/lib/python3.8/dist-packages/sklearn/ensemble/_forest.py:541: UserWarning: Some inputs do not have OOB scores. This probably means too few trees were used to compute any reliable oob estimates.\n",
      "  warn(\"Some inputs do not have OOB scores. \"\n",
      "/usr/local/lib/python3.8/dist-packages/sklearn/ensemble/_forest.py:545: RuntimeWarning: invalid value encountered in true_divide\n",
      "  decision = (predictions[k] /\n",
      "/usr/local/lib/python3.8/dist-packages/sklearn/ensemble/_forest.py:541: UserWarning: Some inputs do not have OOB scores. This probably means too few trees were used to compute any reliable oob estimates.\n",
      "  warn(\"Some inputs do not have OOB scores. \"\n",
      "/usr/local/lib/python3.8/dist-packages/sklearn/ensemble/_forest.py:545: RuntimeWarning: invalid value encountered in true_divide\n",
      "  decision = (predictions[k] /\n",
      "/usr/local/lib/python3.8/dist-packages/sklearn/ensemble/_forest.py:541: UserWarning: Some inputs do not have OOB scores. This probably means too few trees were used to compute any reliable oob estimates.\n",
      "  warn(\"Some inputs do not have OOB scores. \"\n",
      "/usr/local/lib/python3.8/dist-packages/sklearn/ensemble/_forest.py:545: RuntimeWarning: invalid value encountered in true_divide\n",
      "  decision = (predictions[k] /\n"
     ]
    },
    {
     "data": {
      "image/png": "[encoded data removed]",
      "text/plain": [
       "<Figure size 432x288 with 1 Axes>"
      ]
     },
     "metadata": {
      "needs_background": "light"
     },
     "output_type": "display_data"
    },
    {
     "data": {
      "text/plain": [
       "RandomForestRegressor(n_jobs=1)"
      ]
     },
     "execution_count": 31,
     "metadata": {},
     "output_type": "execute_result"
    }
   ],
   "source": [
    "from collections import OrderedDict\n",
    "from sklearn.ensemble import RandomForestClassifier, ExtraTreesClassifier\n",
    "ensemble_clfs = [(\"RandomForestClassifier, max_features=None\",\n",
    "        RandomForestClassifier(warm_start=True, max_features=None,\n",
    "                               oob_score=True,\n",
    "                               random_state=0))]\n",
    "\n",
    "# Map a classifier name to a list of (<n_estimators>, <error rate>) pairs.\n",
    "error_rate = OrderedDict((label, []) for label, _ in ensemble_clfs)\n",
    "\n",
    "# Range of `n_estimators` values to explore.\n",
    "min_estimators = 10\n",
    "max_estimators = 100\n",
    "\n",
    "for label, clf in ensemble_clfs:\n",
    "    for i in range(min_estimators, max_estimators + 1):\n",
    "        clf.set_params(n_estimators=i)\n",
    "        clf.fit(X, y)\n",
    "\n",
    "        # Record the OOB error for each `n_estimators=i` setting.\n",
    "        oob_error = 1 - clf.oob_score_\n",
    "        error_rate[label].append((i, oob_error))\n",
    "\n",
    "# Generate the \"OOB error rate\" vs. \"n_estimators\" plot.\n",
    "for label, clf_err in error_rate.items():\n",
    "    xs, ys = zip(*clf_err)\n",
    "    plt.plot(xs, ys, label=label)\n",
    "\n",
    "plt.xlim(min_estimators, max_estimators)\n",
    "plt.xlabel(\"n_estimators\")\n",
    "plt.ylabel(\"OOB error rate\")\n",
    "plt.legend(loc=\"upper right\")\n",
    "plt.show()\n",
    "\n",
    "from sklearn.ensemble import RandomForestRegressor\n",
    "\n",
    "tunedParameters = [{'n_estimators':100}]\n",
    "\n",
    "clf2 = RandomForestRegressor(n_jobs = 1, criterion='mse', n_estimators=100)\n",
    "#Fit Model\n",
    "clf2.fit(X, y)"
   ]
  },
  {
   "cell_type": "code",
   "execution_count": 32,
   "metadata": {},
   "outputs": [],
   "source": [
    "FeatImp = pd.DataFrame({'feature': list(X.columns), 'importance': list(clf2.feature_importances_)})\n",
    "FeatImp = FeatImp.sort_values('importance', ascending = False)\n",
    "#Set Index To Field You want to Sort Bar Chart By\n",
    "FeatImp = FeatImp.set_index('feature')\n",
    "FeatImp.head(100)\n",
    "FeatImp.to_csv('feature_imp.csv')"
   ]
  },
  {
   "cell_type": "code",
   "execution_count": 33,
   "metadata": {},
   "outputs": [
    {
     "data": {
      "text/plain": [
       "Index(['bedrooms', 'cleaning_fee', 'minimum_nights', 'bathrooms', 'room_type',\n",
       "       'security_deposit', 'number_of_reviews', 'extra_people',\n",
       "       'availability_365', 'availability', 'accommodates', 'maximum_nights',\n",
       "       'guests_included', 'review_scores_rating', 'beds', 'within a day',\n",
       "       'within an hour', 'review_scores_location', 'review_scores_value',\n",
       "       'within a few hours', 'moderate', 'Boat', 'review_scores_cleanliness',\n",
       "       'Other', 'Condominium', 'party', 'Apartment', 'smoking', 'pet',\n",
       "       'strict'],\n",
       "      dtype='object', name='feature')"
      ]
     },
     "execution_count": 33,
     "metadata": {},
     "output_type": "execute_result"
    }
   ],
   "source": [
    "FeatImp.index[0:30]"
   ]
  },
  {
   "cell_type": "code",
   "execution_count": 34,
   "metadata": {},
   "outputs": [
    {
     "data": {
      "text/plain": [
       "array([0.1636532 , 0.14773593, 0.12689167, 0.09596891, 0.0517097 ,\n",
       "       0.04427429, 0.04236871, 0.04186329, 0.03804781, 0.03496643,\n",
       "       0.0319235 , 0.01747759, 0.01640485, 0.01570868, 0.01460359,\n",
       "       0.0141055 , 0.01380497, 0.0094613 , 0.00685852, 0.00678879,\n",
       "       0.00654965, 0.00543114, 0.00485602, 0.00445857, 0.00395476,\n",
       "       0.00387432, 0.00369353, 0.00354212, 0.00351681, 0.00322564])"
      ]
     },
     "execution_count": 34,
     "metadata": {},
     "output_type": "execute_result"
    }
   ],
   "source": [
    "FeatImp['importance'].values[0:30]"
   ]
  },
  {
   "cell_type": "code",
   "execution_count": 35,
   "metadata": {},
   "outputs": [
    {
     "data": {
      "image/png": "[encoded data removed]",
      "text/plain": [
       "<Figure size 432x288 with 1 Axes>"
      ]
     },
     "metadata": {
      "needs_background": "light"
     },
     "output_type": "display_data"
    }
   ],
   "source": [
    "import matplotlib.pyplot as plt\n",
    "plt.figure()\n",
    "\n",
    "plt.title(\"Feature Importance\")\n",
    "y_pos = np.arange(len(FeatImp.index[0:30]))\n",
    "plt.bar(y_pos,FeatImp['importance'].values[0:30])\n",
    "plt.xticks(y_pos, FeatImp.index[0:30],rotation='vertical')\n",
    "plt.show()"
   ]
  },
  {
   "cell_type": "code",
   "execution_count": 36,
   "metadata": {},
   "outputs": [
    {
     "name": "stderr",
     "output_type": "stream",
     "text": [
      "/usr/local/lib/python3.8/dist-packages/seaborn/distributions.py:2557: FutureWarning: `distplot` is a deprecated function and will be removed in a future version. Please adapt your code to use either `displot` (a figure-level function with similar flexibility) or `histplot` (an axes-level function for histograms).\n",
      "  warnings.warn(msg, FutureWarning)\n"
     ]
    },
    {
     "data": {
      "text/plain": [
       "52.8"
      ]
     },
     "execution_count": 36,
     "metadata": {},
     "output_type": "execute_result"
    },
    {
     "data": {
      "image/png": "[encoded data removed]",
      "text/plain": [
       "<Figure size 1224x720 with 1 Axes>"
      ]
     },
     "metadata": {
      "needs_background": "light"
     },
     "output_type": "display_data"
    }
   ],
   "source": [
    "import matplotlib.pyplot as plt\n",
    "\n",
    "fig=plt.figure(figsize=(17,10))\n",
    "# df['price'] = df.price.str.replace(\"\\$|,\", \"\").astype(float)\n",
    "# df['price'].hist()\n",
    "sns.distplot(df_2['price'])\n",
    "# plt.show()\n",
    "mean_price = df_2.price.iloc[:5].mean()\n",
    "mean_price\n",
    "# df['host_acceptance_rate'].head()"
   ]
  },
  {
   "cell_type": "code",
   "execution_count": 37,
   "metadata": {},
   "outputs": [
    {
     "name": "stderr",
     "output_type": "stream",
     "text": [
      "/usr/local/lib/python3.8/dist-packages/seaborn/distributions.py:2557: FutureWarning: `distplot` is a deprecated function and will be removed in a future version. Please adapt your code to use either `displot` (a figure-level function with similar flexibility) or `histplot` (an axes-level function for histograms).\n",
      "  warnings.warn(msg, FutureWarning)\n"
     ]
    },
    {
     "data": {
      "text/plain": [
       "<AxesSubplot:xlabel='review_scores_rating', ylabel='Density'>"
      ]
     },
     "execution_count": 37,
     "metadata": {},
     "output_type": "execute_result"
    },
    {
     "data": {
      "image/png": "[encoded data removed]",
      "text/plain": [
       "<Figure size 432x288 with 1 Axes>"
      ]
     },
     "metadata": {
      "needs_background": "light"
     },
     "output_type": "display_data"
    }
   ],
   "source": [
    "df_2['review_scores_rating'].fillna(0, inplace=True)\n",
    "df_2['review_scores_rating'].dropna(axis=0, inplace=True)\n",
    "sns.distplot(df_2['review_scores_rating'])\n"
   ]
  },
  {
   "cell_type": "code",
   "execution_count": 38,
   "metadata": {},
   "outputs": [
    {
     "data": {
      "text/plain": [
       "<AxesSubplot:xlabel='review_scores_rating', ylabel='price'>"
      ]
     },
     "execution_count": 38,
     "metadata": {},
     "output_type": "execute_result"
    },
    {
     "data": {
      "image/png": "[encoded data removed]",
      "text/plain": [
       "<Figure size 432x288 with 1 Axes>"
      ]
     },
     "metadata": {
      "needs_background": "light"
     },
     "output_type": "display_data"
    },
    {
     "data": {
      "image/png": "[encoded data removed]",
      "text/plain": [
       "<Figure size 432x288 with 1 Axes>"
      ]
     },
     "metadata": {
      "needs_background": "light"
     },
     "output_type": "display_data"
    }
   ],
   "source": [
    "#Correlation Plot\n",
    "var = 'review_scores_rating'\n",
    "data = pd.concat([df_2['price'], df_2[var]], axis=1)\n",
    "data.plot.scatter(x=var, y='price')\n",
    "data.plot.scatter(x=var, y='price', ylim=(0,1500))"
   ]
  },
  {
   "cell_type": "code",
   "execution_count": 39,
   "metadata": {},
   "outputs": [
    {
     "name": "stderr",
     "output_type": "stream",
     "text": [
      "<ipython-input-39-f4fcd8200c6b>:29: FutureWarning: The default value of regex will change from True to False in a future version.\n",
      "  df['price'] = df['price'].str.replace(\"\\$|,\", \"\").astype(float)\n",
      "<ipython-input-39-f4fcd8200c6b>:13: MatplotlibDeprecationWarning: Axes3D(fig) adding itself to the figure is deprecated since 3.4. Pass the keyword argument auto_add_to_figure=False and use fig.add_axes(ax) to suppress this warning. The default value of auto_add_to_figure will change to False in mpl3.5 and True values will no longer work in 3.6.  This is consistent with other Axes classes.\n",
      "  ax = Axes3D(fig, rect=[0, 0, .95, 1], elev=48, azim=134)\n",
      "<ipython-input-39-f4fcd8200c6b>:18: DeprecationWarning: `np.float` is a deprecated alias for the builtin `float`. To silence this warning, use `float` by itself. Doing this will not modify any behavior and is safe. If you specifically wanted the numpy scalar type, use `np.float64` here.\n",
      "Deprecated in NumPy 1.20; for more details and guidance: https://numpy.org/devdocs/release/1.20.0-notes.html#deprecations\n",
      "  ax.scatter(X[:,0], X[:,1], X[:,2], c=labels.astype(np.float),edgecolor='k')\n"
     ]
    },
    {
     "data": {
      "image/png": "[encoded data removed]",
      "text/plain": [
       "<Figure size 288x216 with 1 Axes>"
      ]
     },
     "metadata": {
      "needs_background": "light"
     },
     "output_type": "display_data"
    }
   ],
   "source": [
    "#cluster by locations\n",
    "import numpy as np\n",
    "from mpl_toolkits.mplot3d import Axes3D\n",
    "from sklearn.cluster import KMeans\n",
    "\n",
    "def plot_3D_clusters(X, k):\n",
    "    \"\"\"Plot 3 attributes in dataset to explore natural clusters within data\"\"\"\n",
    "    estimators = {'k_means_3': KMeans(n_clusters=k)}\n",
    "    fignum = 1\n",
    "    for name, est in estimators.items():\n",
    "        fig = plt.figure(fignum, figsize=(4, 3))\n",
    "        plt.clf()\n",
    "        ax = Axes3D(fig, rect=[0, 0, .95, 1], elev=48, azim=134)\n",
    "        plt.cla()\n",
    "        est.fit(X)\n",
    "        labels = est.labels_\n",
    "        # Change the 2nd column in X[:,_] to choose attributes for plotting\n",
    "        ax.scatter(X[:,0], X[:,1], X[:,2], c=labels.astype(np.float),edgecolor='k')\n",
    "        ax.w_xaxis.set_ticklabels([])\n",
    "        ax.w_yaxis.set_ticklabels([])\n",
    "        ax.w_zaxis.set_ticklabels([])\n",
    "        ax.set_xlabel('latitude')\n",
    "        ax.set_ylabel('longitude')\n",
    "        ax.set_zlabel('price')\n",
    "        fignum = fignum + 1\n",
    "    plt.show()\n",
    "# change the n\n",
    "df = pd.read_csv('Airbnb_data/listings_SanFan.csv')\n",
    "df['price'] = df['price'].str.replace(\"\\$|,\", \"\").astype(float)\n",
    "X = np.array(df[['latitude', 'longitude', 'price']])\n",
    "plot_3D_clusters(X, 4)"
   ]
  },
  {
   "cell_type": "code",
   "execution_count": 40,
   "metadata": {},
   "outputs": [],
   "source": [
    "# Transformation\n",
    "# right skewed: log transform\n",
    "# left skewed: power transform\n"
   ]
  },
  {
   "cell_type": "markdown",
   "metadata": {},
   "source": [
    "The reason we selected the kNN algorithm is because it determines the response variable Y based on the values of X-variables from k neighbors, which in our case is the values of nearby Airbnb competitors. This is a good model fit for our data because in real life, it is usually the case that real estate, hotel, and Airbnb values are heavily influenced by their surrounding competitors as a function of their location."
   ]
  },
  {
   "cell_type": "code",
   "execution_count": 41,
   "metadata": {},
   "outputs": [],
   "source": [
    "from sklearn.neighbors import KNeighborsRegressor\n",
    "from sklearn.metrics import mean_squared_error\n",
    "# Create KNN model: 5 closest neighbors\n",
    "knn = KNeighborsRegressor(algorithm='brute', n_neighbors = 5)\n",
    "cols = ['accommodates', 'bedrooms', 'bathrooms', 'beds']\n",
    "knn.fit(X_train[cols], y_train)\n",
    "features_predictions = knn.predict(X_test[cols])\n",
    "features_mse = mean_squared_error(y_test, features_predictions)\n",
    "features_rmse = features_mse ** (1/2)"
   ]
  },
  {
   "cell_type": "code",
   "execution_count": 61,
   "metadata": {},
   "outputs": [
    {
     "data": {
      "text/plain": [
       "91.19288836794725"
      ]
     },
     "execution_count": 61,
     "metadata": {},
     "output_type": "execute_result"
    }
   ],
   "source": [
    "features_rmse"
   ]
  },
  {
   "cell_type": "code",
   "execution_count": null,
   "metadata": {},
   "outputs": [],
   "source": []
  }
 ],
 "metadata": {
  "kernelspec": {
   "display_name": "Python 3",
   "language": "python",
   "name": "python3"
  },
  "language_info": {
   "codemirror_mode": {
    "name": "ipython",
    "version": 3
   },
   "file_extension": ".py",
   "mimetype": "text/x-python",
   "name": "python",
   "nbconvert_exporter": "python",
   "pygments_lexer": "ipython3",
   "version": "3.8.5"
  }
 },
 "nbformat": 4,
 "nbformat_minor": 4
}
